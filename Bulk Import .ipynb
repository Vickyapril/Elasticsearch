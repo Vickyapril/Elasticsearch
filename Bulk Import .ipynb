{
 "cells": [
  {
   "cell_type": "code",
   "execution_count": 1,
   "metadata": {},
   "outputs": [],
   "source": [
    "#Data source\"http://files.grouplens.org/datasets/movielens/ml-latest-small.zip\""
   ]
  },
  {
   "cell_type": "code",
   "execution_count": 2,
   "metadata": {},
   "outputs": [],
   "source": [
    "import csv\n",
    "import re"
   ]
  },
  {
   "cell_type": "code",
   "execution_count": null,
   "metadata": {},
   "outputs": [],
   "source": [
    "#Read the csv file from local machine/cluster \n",
    "csvfile = open('/Users/vicky/Desktop/ml-latest-small/movies.csv', 'r')"
   ]
  },
  {
   "cell_type": "code",
   "execution_count": null,
   "metadata": {},
   "outputs": [],
   "source": [
    "#Dict reader for json parsing \n",
    "reader = csv.DictReader( csvfile )\n",
    "for movie in reader:\n",
    "        print (\"{ \\\"create\\\" : { \\\"_index\\\": \\\"movies\\\", \\\"_id\\\" : \\\"\" , movie['movieId'], \"\\\" } }\", sep='')\n",
    "        title = re.sub(\" \\(.*\\)$\", \"\", re.sub('\"','', movie['title']))\n",
    "        year = movie['title'][-5:-1]\n",
    "        if (not year.isdigit()):\n",
    "            year = \"2016\"\n",
    "        genres = movie['genres'].split('|')\n",
    "        print (\"{ \\\"id\\\": \\\"\", movie['movieId'], \"\\\", \\\"title\\\": \\\"\", title, \"\\\", \\\"year\\\":\", year, \", \\\"genre\\\":[\", end='', sep='')\n",
    "        for genre in genres[:-1]:\n",
    "            print(\"\\\"\", genre, \"\\\",\", end='', sep='')\n",
    "        print(\"\\\"\", genres[-1], \"\\\"\", end = '', sep='')\n",
    "        print (\"] }\")\n"
   ]
  },
  {
   "cell_type": "code",
   "execution_count": null,
   "metadata": {},
   "outputs": [],
   "source": []
  }
 ],
 "metadata": {
  "kernelspec": {
   "display_name": "Python 3",
   "language": "python",
   "name": "python3"
  },
  "language_info": {
   "codemirror_mode": {
    "name": "ipython",
    "version": 3
   },
   "file_extension": ".py",
   "mimetype": "text/x-python",
   "name": "python",
   "nbconvert_exporter": "python",
   "pygments_lexer": "ipython3",
   "version": "3.6.4"
  }
 },
 "nbformat": 4,
 "nbformat_minor": 2
}
