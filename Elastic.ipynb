{
 "cells": [
  {
   "cell_type": "code",
   "execution_count": 2,
   "metadata": {},
   "outputs": [],
   "source": [
    "pip install elasticsearch"
   ]
  },
  {
   "cell_type": "code",
   "execution_count": 3,
   "metadata": {},
   "outputs": [],
   "source": [
    "# Data Source “http://files.grouplens.org/datasets/movielens/ml-latest-small.zip”"
   ]
  },
  {
   "cell_type": "code",
   "execution_count": 4,
   "metadata": {},
   "outputs": [
    {
     "ename": "ModuleNotFoundError",
     "evalue": "No module named 'elasticsearch'",
     "output_type": "error",
     "traceback": [
      "\u001b[1;31m---------------------------------------------------------------------------\u001b[0m",
      "\u001b[1;31mModuleNotFoundError\u001b[0m                       Traceback (most recent call last)",
      "\u001b[1;32m<ipython-input-4-a5978f77d657>\u001b[0m in \u001b[0;36m<module>\u001b[1;34m()\u001b[0m\n\u001b[0;32m      1\u001b[0m \u001b[1;32mimport\u001b[0m \u001b[0mcsv\u001b[0m\u001b[1;33m\u001b[0m\u001b[0m\n\u001b[0;32m      2\u001b[0m \u001b[1;32mfrom\u001b[0m \u001b[0mcollections\u001b[0m \u001b[1;32mimport\u001b[0m \u001b[0mdeque\u001b[0m\u001b[1;33m\u001b[0m\u001b[0m\n\u001b[1;32m----> 3\u001b[1;33m \u001b[1;32mimport\u001b[0m \u001b[0melasticsearch\u001b[0m\u001b[1;33m\u001b[0m\u001b[0m\n\u001b[0m\u001b[0;32m      4\u001b[0m \u001b[1;32mfrom\u001b[0m \u001b[0melasticsearch\u001b[0m \u001b[1;32mimport\u001b[0m \u001b[0mhelpers\u001b[0m\u001b[1;33m\u001b[0m\u001b[0m\n\u001b[0;32m      5\u001b[0m \u001b[1;32mfrom\u001b[0m \u001b[0mbuiltins\u001b[0m \u001b[1;32mimport\u001b[0m \u001b[0mint\u001b[0m\u001b[1;33m\u001b[0m\u001b[0m\n",
      "\u001b[1;31mModuleNotFoundError\u001b[0m: No module named 'elasticsearch'"
     ]
    }
   ],
   "source": [
    "import csv\n",
    "from collections import deque\n",
    "import elasticsearch\n",
    "from elasticsearch import helpers\n",
    "from builtins import int\n"
   ]
  },
  {
   "cell_type": "code",
   "execution_count": null,
   "metadata": {},
   "outputs": [],
   "source": [
    "def readMovies():\n",
    "    csvfile = open(r\"C:\\Users\\sanjay\\Desktop\\ml-latest-small\\movies.csv\",encoding=\"utf8\")\n",
    "    #Dict reader used to create key value pair similar to JSON\n",
    "    reader = csv.DictReader( csvfile )\n",
    "\n",
    "    titleLookup = {}\n",
    "\n",
    "    for movie in reader:\n",
    "            #Lookup table to match \n",
    "            titleLookup[movie['movieId']] = movie['title']\n",
    "\n",
    "    return titleLookup"
   ]
  },
  {
   "cell_type": "code",
   "execution_count": null,
   "metadata": {},
   "outputs": [],
   "source": [
    "def readRatings():\n",
    "    csvfile = open(r'C:\\Users\\sanjay\\Desktop\\ml-latest-small\\ratings.csv',encoding=\"utf8\")\n",
    "    #Calling the previous lookup \n",
    "    titleLookup = readMovies()\n",
    "\n",
    "    reader = csv.DictReader( csvfile )\n",
    "    for line in reader:\n",
    "        rating = {}\n",
    "        rating['user_id'] = int(line['userId'])\n",
    "        rating['movie_id'] = int(line['movieId'])\n",
    "        rating['title'] = titleLookup[line['movieId']]#Make a look up similar to JOIN in SQL\n",
    "        rating['rating'] = float(line['rating'])\n",
    "        rating['timestamp'] = int(line['timestamp'])\n",
    "        yield rating #Creating a Generator function"
   ]
  },
  {
   "cell_type": "code",
   "execution_count": null,
   "metadata": {},
   "outputs": [],
   "source": [
    "es = elasticsearch.Elasticsearch()\n",
    "\n",
    "#Delete the indices if previously created\n",
    "es.indices.delete(index=\"ratings\",ignore=404)\n",
    "#using the functions we can do a bulk import and call the readRatings functions and name the index as Ratings \n",
    "deque(helpers.parallel_bulk(es,readRatings(),index=\"ratings\"), maxlen=0)\n",
    "es.indices.refresh()"
   ]
  }
 ],
 "metadata": {
  "kernelspec": {
   "display_name": "Python 3",
   "language": "python",
   "name": "python3"
  },
  "language_info": {
   "codemirror_mode": {
    "name": "ipython",
    "version": 3
   },
   "file_extension": ".py",
   "mimetype": "text/x-python",
   "name": "python",
   "nbconvert_exporter": "python",
   "pygments_lexer": "ipython3",
   "version": "3.6.4"
  }
 },
 "nbformat": 4,
 "nbformat_minor": 2
}
